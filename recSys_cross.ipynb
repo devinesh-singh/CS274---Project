{
 "cells": [
  {
   "cell_type": "code",
   "execution_count": null,
   "metadata": {
    "id": "OvmqDtoQqB8a"
   },
   "outputs": [],
   "source": [
    "import numpy as np\n",
    "import pandas as pd\n",
    "import matplotlib.pyplot as plt\n",
    "import seaborn as sns\n",
    "import sklearn\n",
    "from sklearn.model_selection import train_test_split\n",
    "import torch\n",
    "import torch.nn as nn\n",
    "from sklearn.metrics import mean_squared_error\n",
    "from sklearn.preprocessing import LabelEncoder\n",
    "from sklearn.model_selection import KFold\n",
    "\n",
    "import torch\n",
    "import torch.nn.functional as F\n",
    "from torch.autograd import Variable\n",
    "from torch import nn\n",
    "from datetime import datetime\n",
    "\n",
    "import warnings; warnings.simplefilter('ignore')\n",
    "%matplotlib inline"
   ]
  },
  {
   "cell_type": "code",
   "execution_count": null,
   "metadata": {
    "id": "05kYUFz_riRx"
   },
   "outputs": [],
   "source": [
    "df =  pd.read_csv('ratings_Electronics (1).csv', names=['userId', 'productId','Rating','timestamp'])"
   ]
  },
  {
   "cell_type": "code",
   "execution_count": null,
   "metadata": {
    "colab": {
     "base_uri": "https://localhost:8080/",
     "height": 204
    },
    "id": "MuuI9XG0rjfo",
    "outputId": "6e485db1-1252-49a3-8e06-531224048bcc"
   },
   "outputs": [
    {
     "data": {
      "text/html": [
       "\n",
       "  <div id=\"df-25b7884e-2078-4c02-8080-4d61159c9e50\">\n",
       "    <div class=\"colab-df-container\">\n",
       "      <div>\n",
       "<style scoped>\n",
       "    .dataframe tbody tr th:only-of-type {\n",
       "        vertical-align: middle;\n",
       "    }\n",
       "\n",
       "    .dataframe tbody tr th {\n",
       "        vertical-align: top;\n",
       "    }\n",
       "\n",
       "    .dataframe thead th {\n",
       "        text-align: right;\n",
       "    }\n",
       "</style>\n",
       "<table border=\"1\" class=\"dataframe\">\n",
       "  <thead>\n",
       "    <tr style=\"text-align: right;\">\n",
       "      <th></th>\n",
       "      <th>userId</th>\n",
       "      <th>productId</th>\n",
       "      <th>Rating</th>\n",
       "      <th>timestamp</th>\n",
       "    </tr>\n",
       "  </thead>\n",
       "  <tbody>\n",
       "    <tr>\n",
       "      <th>0</th>\n",
       "      <td>AKM1MP6P0OYPR</td>\n",
       "      <td>0132793040</td>\n",
       "      <td>5.0</td>\n",
       "      <td>1365811200</td>\n",
       "    </tr>\n",
       "    <tr>\n",
       "      <th>1</th>\n",
       "      <td>A2CX7LUOHB2NDG</td>\n",
       "      <td>0321732944</td>\n",
       "      <td>5.0</td>\n",
       "      <td>1341100800</td>\n",
       "    </tr>\n",
       "    <tr>\n",
       "      <th>2</th>\n",
       "      <td>A2NWSAGRHCP8N5</td>\n",
       "      <td>0439886341</td>\n",
       "      <td>1.0</td>\n",
       "      <td>1367193600</td>\n",
       "    </tr>\n",
       "    <tr>\n",
       "      <th>3</th>\n",
       "      <td>A2WNBOD3WNDNKT</td>\n",
       "      <td>0439886341</td>\n",
       "      <td>3.0</td>\n",
       "      <td>1374451200</td>\n",
       "    </tr>\n",
       "    <tr>\n",
       "      <th>4</th>\n",
       "      <td>A1GI0U4ZRJA8WN</td>\n",
       "      <td>0439886341</td>\n",
       "      <td>1.0</td>\n",
       "      <td>1334707200</td>\n",
       "    </tr>\n",
       "  </tbody>\n",
       "</table>\n",
       "</div>\n",
       "      <button class=\"colab-df-convert\" onclick=\"convertToInteractive('df-25b7884e-2078-4c02-8080-4d61159c9e50')\"\n",
       "              title=\"Convert this dataframe to an interactive table.\"\n",
       "              style=\"display:none;\">\n",
       "        \n",
       "  <svg xmlns=\"http://www.w3.org/2000/svg\" height=\"24px\"viewBox=\"0 0 24 24\"\n",
       "       width=\"24px\">\n",
       "    <path d=\"M0 0h24v24H0V0z\" fill=\"none\"/>\n",
       "    <path d=\"M18.56 5.44l.94 2.06.94-2.06 2.06-.94-2.06-.94-.94-2.06-.94 2.06-2.06.94zm-11 1L8.5 8.5l.94-2.06 2.06-.94-2.06-.94L8.5 2.5l-.94 2.06-2.06.94zm10 10l.94 2.06.94-2.06 2.06-.94-2.06-.94-.94-2.06-.94 2.06-2.06.94z\"/><path d=\"M17.41 7.96l-1.37-1.37c-.4-.4-.92-.59-1.43-.59-.52 0-1.04.2-1.43.59L10.3 9.45l-7.72 7.72c-.78.78-.78 2.05 0 2.83L4 21.41c.39.39.9.59 1.41.59.51 0 1.02-.2 1.41-.59l7.78-7.78 2.81-2.81c.8-.78.8-2.07 0-2.86zM5.41 20L4 18.59l7.72-7.72 1.47 1.35L5.41 20z\"/>\n",
       "  </svg>\n",
       "      </button>\n",
       "      \n",
       "  <style>\n",
       "    .colab-df-container {\n",
       "      display:flex;\n",
       "      flex-wrap:wrap;\n",
       "      gap: 12px;\n",
       "    }\n",
       "\n",
       "    .colab-df-convert {\n",
       "      background-color: #E8F0FE;\n",
       "      border: none;\n",
       "      border-radius: 50%;\n",
       "      cursor: pointer;\n",
       "      display: none;\n",
       "      fill: #1967D2;\n",
       "      height: 32px;\n",
       "      padding: 0 0 0 0;\n",
       "      width: 32px;\n",
       "    }\n",
       "\n",
       "    .colab-df-convert:hover {\n",
       "      background-color: #E2EBFA;\n",
       "      box-shadow: 0px 1px 2px rgba(60, 64, 67, 0.3), 0px 1px 3px 1px rgba(60, 64, 67, 0.15);\n",
       "      fill: #174EA6;\n",
       "    }\n",
       "\n",
       "    [theme=dark] .colab-df-convert {\n",
       "      background-color: #3B4455;\n",
       "      fill: #D2E3FC;\n",
       "    }\n",
       "\n",
       "    [theme=dark] .colab-df-convert:hover {\n",
       "      background-color: #434B5C;\n",
       "      box-shadow: 0px 1px 3px 1px rgba(0, 0, 0, 0.15);\n",
       "      filter: drop-shadow(0px 1px 2px rgba(0, 0, 0, 0.3));\n",
       "      fill: #FFFFFF;\n",
       "    }\n",
       "  </style>\n",
       "\n",
       "      <script>\n",
       "        const buttonEl =\n",
       "          document.querySelector('#df-25b7884e-2078-4c02-8080-4d61159c9e50 button.colab-df-convert');\n",
       "        buttonEl.style.display =\n",
       "          google.colab.kernel.accessAllowed ? 'block' : 'none';\n",
       "\n",
       "        async function convertToInteractive(key) {\n",
       "          const element = document.querySelector('#df-25b7884e-2078-4c02-8080-4d61159c9e50');\n",
       "          const dataTable =\n",
       "            await google.colab.kernel.invokeFunction('convertToInteractive',\n",
       "                                                     [key], {});\n",
       "          if (!dataTable) return;\n",
       "\n",
       "          const docLinkHtml = 'Like what you see? Visit the ' +\n",
       "            '<a target=\"_blank\" href=https://colab.research.google.com/notebooks/data_table.ipynb>data table notebook</a>'\n",
       "            + ' to learn more about interactive tables.';\n",
       "          element.innerHTML = '';\n",
       "          dataTable['output_type'] = 'display_data';\n",
       "          await google.colab.output.renderOutput(dataTable, element);\n",
       "          const docLink = document.createElement('div');\n",
       "          docLink.innerHTML = docLinkHtml;\n",
       "          element.appendChild(docLink);\n",
       "        }\n",
       "      </script>\n",
       "    </div>\n",
       "  </div>\n",
       "  "
      ],
      "text/plain": [
       "           userId   productId  Rating   timestamp\n",
       "0   AKM1MP6P0OYPR  0132793040     5.0  1365811200\n",
       "1  A2CX7LUOHB2NDG  0321732944     5.0  1341100800\n",
       "2  A2NWSAGRHCP8N5  0439886341     1.0  1367193600\n",
       "3  A2WNBOD3WNDNKT  0439886341     3.0  1374451200\n",
       "4  A1GI0U4ZRJA8WN  0439886341     1.0  1334707200"
      ]
     },
     "execution_count": 3,
     "metadata": {},
     "output_type": "execute_result"
    }
   ],
   "source": [
    "df.head()"
   ]
  },
  {
   "cell_type": "code",
   "execution_count": null,
   "metadata": {
    "colab": {
     "base_uri": "https://localhost:8080/"
    },
    "id": "duBI4HLLrjct",
    "outputId": "1612d6ec-16ed-43b9-ae39-9ec2a4d608ee"
   },
   "outputs": [
    {
     "name": "stdout",
     "output_type": "stream",
     "text": [
      "<class 'pandas.core.frame.DataFrame'>\n",
      "RangeIndex: 7824482 entries, 0 to 7824481\n",
      "Data columns (total 4 columns):\n",
      " #   Column     Dtype  \n",
      "---  ------     -----  \n",
      " 0   userId     object \n",
      " 1   productId  object \n",
      " 2   Rating     float64\n",
      " 3   timestamp  int64  \n",
      "dtypes: float64(1), int64(1), object(2)\n",
      "memory usage: 238.8+ MB\n"
     ]
    }
   ],
   "source": [
    "df.info()"
   ]
  },
  {
   "cell_type": "code",
   "execution_count": null,
   "metadata": {
    "colab": {
     "base_uri": "https://localhost:8080/"
    },
    "id": "B1lrG7LPrjaK",
    "outputId": "00debcee-9fa8-483e-b572-1ce38aae769c"
   },
   "outputs": [
    {
     "data": {
      "text/plain": [
       "userId       0\n",
       "productId    0\n",
       "Rating       0\n",
       "timestamp    0\n",
       "dtype: int64"
      ]
     },
     "execution_count": 5,
     "metadata": {},
     "output_type": "execute_result"
    }
   ],
   "source": [
    "df.isnull().sum()"
   ]
  },
  {
   "cell_type": "code",
   "execution_count": null,
   "metadata": {
    "colab": {
     "base_uri": "https://localhost:8080/"
    },
    "id": "BPUifKnorjXL",
    "outputId": "7158d3d3-9f50-4efa-e96a-fcf8d0ac0608"
   },
   "outputs": [
    {
     "data": {
      "text/plain": [
       "5.0    4347541\n",
       "4.0    1485781\n",
       "1.0     901765\n",
       "3.0     633073\n",
       "2.0     456322\n",
       "Name: Rating, dtype: int64"
      ]
     },
     "execution_count": 6,
     "metadata": {},
     "output_type": "execute_result"
    }
   ],
   "source": [
    "df['Rating'].value_counts()"
   ]
  },
  {
   "cell_type": "code",
   "execution_count": null,
   "metadata": {
    "colab": {
     "base_uri": "https://localhost:8080/",
     "height": 369
    },
    "id": "W7BNXiiTrjUe",
    "outputId": "1eb529f9-3506-4d02-d6a7-d2d05a5fd8c5"
   },
   "outputs": [
    {
     "data": {
      "image/png": "[encoded data removed]",
      "text/plain": [
       "<Figure size 720x360 with 1 Axes>"
      ]
     },
     "metadata": {},
     "output_type": "display_data"
    }
   ],
   "source": [
    "with sns.axes_style('white'):\n",
    "    g = sns.factorplot(\"Rating\", data=df, aspect=2.0,kind='count')\n",
    "    g.set_ylabels(\"Total number of ratings\")"
   ]
  },
  {
   "cell_type": "code",
   "execution_count": null,
   "metadata": {
    "colab": {
     "base_uri": "https://localhost:8080/"
    },
    "id": "Sm0lgAUvrjRw",
    "outputId": "f752322f-a88d-4558-f58b-6813c538ea01"
   },
   "outputs": [
    {
     "name": "stdout",
     "output_type": "stream",
     "text": [
      "Total data \n",
      "--------------------------------------------------\n",
      "\n",
      "Total no of ratings : 7824482\n",
      "Total No of Users   : 4201696\n",
      "Total No of products  : 476002\n"
     ]
    }
   ],
   "source": [
    "print(\"Total data \")\n",
    "print(\"-\"*50)\n",
    "print(\"\\nTotal no of ratings :\",df.shape[0])\n",
    "print(\"Total No of Users   :\", len(np.unique(df.userId)))\n",
    "print(\"Total No of products  :\", len(np.unique(df.productId)))"
   ]
  },
  {
   "cell_type": "markdown",
   "metadata": {
    "id": "mQF5rJ6jLr8i"
   },
   "source": [
    "##Data Preprocessing"
   ]
  },
  {
   "cell_type": "code",
   "execution_count": null,
   "metadata": {
    "colab": {
     "base_uri": "https://localhost:8080/"
    },
    "id": "2vLFEmBYrjOz",
    "outputId": "532cf298-844a-40e1-a7f7-f74651cfce61"
   },
   "outputs": [
    {
     "data": {
      "text/plain": [
       "userId\n",
       "A5JLAU2ARJ0BO     520\n",
       "ADLVFFE4VBT8      501\n",
       "A3OXHLG6DIBRW8    498\n",
       "A6FIAB28IS79      431\n",
       "A680RUE1FDO8B     406\n",
       "Name: Rating, dtype: int64"
      ]
     },
     "execution_count": 9,
     "metadata": {},
     "output_type": "execute_result"
    }
   ],
   "source": [
    "#Analysis of rating given by the user \n",
    "\n",
    "nrp = df.groupby(by='userId')['Rating'].count().sort_values(ascending=False)\n",
    "\n",
    "nrp.head()"
   ]
  },
  {
   "cell_type": "code",
   "execution_count": null,
   "metadata": {
    "id": "MAo8dR681rUm"
   },
   "outputs": [],
   "source": [
    "df.drop(['timestamp'], axis=1,inplace=True)"
   ]
  },
  {
   "cell_type": "code",
   "execution_count": null,
   "metadata": {
    "id": "RfGlw3NbrjH8"
   },
   "outputs": [],
   "source": [
    "new_df = df.groupby(\"productId\").filter(lambda x:x['Rating'].count() >=50)"
   ]
  },
  {
   "cell_type": "code",
   "execution_count": null,
   "metadata": {
    "colab": {
     "base_uri": "https://localhost:8080/",
     "height": 204
    },
    "id": "R9eJh1K5tTxy",
    "outputId": "06cf15da-19bb-4d0a-b90b-f570f8d4f0dc"
   },
   "outputs": [
    {
     "data": {
      "text/html": [
       "\n",
       "  <div id=\"df-327fedaf-27b0-4c50-b517-9b53f612298d\">\n",
       "    <div class=\"colab-df-container\">\n",
       "      <div>\n",
       "<style scoped>\n",
       "    .dataframe tbody tr th:only-of-type {\n",
       "        vertical-align: middle;\n",
       "    }\n",
       "\n",
       "    .dataframe tbody tr th {\n",
       "        vertical-align: top;\n",
       "    }\n",
       "\n",
       "    .dataframe thead th {\n",
       "        text-align: right;\n",
       "    }\n",
       "</style>\n",
       "<table border=\"1\" class=\"dataframe\">\n",
       "  <thead>\n",
       "    <tr style=\"text-align: right;\">\n",
       "      <th></th>\n",
       "      <th>userId</th>\n",
       "      <th>productId</th>\n",
       "      <th>Rating</th>\n",
       "    </tr>\n",
       "  </thead>\n",
       "  <tbody>\n",
       "    <tr>\n",
       "      <th>183</th>\n",
       "      <td>A1BKC6B7YHYTVV</td>\n",
       "      <td>0972683275</td>\n",
       "      <td>4.0</td>\n",
       "    </tr>\n",
       "    <tr>\n",
       "      <th>184</th>\n",
       "      <td>AWVFSIB42LHKJ</td>\n",
       "      <td>0972683275</td>\n",
       "      <td>4.0</td>\n",
       "    </tr>\n",
       "    <tr>\n",
       "      <th>185</th>\n",
       "      <td>A36MQBNADRH8YY</td>\n",
       "      <td>0972683275</td>\n",
       "      <td>5.0</td>\n",
       "    </tr>\n",
       "    <tr>\n",
       "      <th>186</th>\n",
       "      <td>A3SRXMPLAEZ6DP</td>\n",
       "      <td>0972683275</td>\n",
       "      <td>4.0</td>\n",
       "    </tr>\n",
       "    <tr>\n",
       "      <th>187</th>\n",
       "      <td>A20XXTXWF2TCPY</td>\n",
       "      <td>0972683275</td>\n",
       "      <td>5.0</td>\n",
       "    </tr>\n",
       "  </tbody>\n",
       "</table>\n",
       "</div>\n",
       "      <button class=\"colab-df-convert\" onclick=\"convertToInteractive('df-327fedaf-27b0-4c50-b517-9b53f612298d')\"\n",
       "              title=\"Convert this dataframe to an interactive table.\"\n",
       "              style=\"display:none;\">\n",
       "        \n",
       "  <svg xmlns=\"http://www.w3.org/2000/svg\" height=\"24px\"viewBox=\"0 0 24 24\"\n",
       "       width=\"24px\">\n",
       "    <path d=\"M0 0h24v24H0V0z\" fill=\"none\"/>\n",
       "    <path d=\"M18.56 5.44l.94 2.06.94-2.06 2.06-.94-2.06-.94-.94-2.06-.94 2.06-2.06.94zm-11 1L8.5 8.5l.94-2.06 2.06-.94-2.06-.94L8.5 2.5l-.94 2.06-2.06.94zm10 10l.94 2.06.94-2.06 2.06-.94-2.06-.94-.94-2.06-.94 2.06-2.06.94z\"/><path d=\"M17.41 7.96l-1.37-1.37c-.4-.4-.92-.59-1.43-.59-.52 0-1.04.2-1.43.59L10.3 9.45l-7.72 7.72c-.78.78-.78 2.05 0 2.83L4 21.41c.39.39.9.59 1.41.59.51 0 1.02-.2 1.41-.59l7.78-7.78 2.81-2.81c.8-.78.8-2.07 0-2.86zM5.41 20L4 18.59l7.72-7.72 1.47 1.35L5.41 20z\"/>\n",
       "  </svg>\n",
       "      </button>\n",
       "      \n",
       "  <style>\n",
       "    .colab-df-container {\n",
       "      display:flex;\n",
       "      flex-wrap:wrap;\n",
       "      gap: 12px;\n",
       "    }\n",
       "\n",
       "    .colab-df-convert {\n",
       "      background-color: #E8F0FE;\n",
       "      border: none;\n",
       "      border-radius: 50%;\n",
       "      cursor: pointer;\n",
       "      display: none;\n",
       "      fill: #1967D2;\n",
       "      height: 32px;\n",
       "      padding: 0 0 0 0;\n",
       "      width: 32px;\n",
       "    }\n",
       "\n",
       "    .colab-df-convert:hover {\n",
       "      background-color: #E2EBFA;\n",
       "      box-shadow: 0px 1px 2px rgba(60, 64, 67, 0.3), 0px 1px 3px 1px rgba(60, 64, 67, 0.15);\n",
       "      fill: #174EA6;\n",
       "    }\n",
       "\n",
       "    [theme=dark] .colab-df-convert {\n",
       "      background-color: #3B4455;\n",
       "      fill: #D2E3FC;\n",
       "    }\n",
       "\n",
       "    [theme=dark] .colab-df-convert:hover {\n",
       "      background-color: #434B5C;\n",
       "      box-shadow: 0px 1px 3px 1px rgba(0, 0, 0, 0.15);\n",
       "      filter: drop-shadow(0px 1px 2px rgba(0, 0, 0, 0.3));\n",
       "      fill: #FFFFFF;\n",
       "    }\n",
       "  </style>\n",
       "\n",
       "      <script>\n",
       "        const buttonEl =\n",
       "          document.querySelector('#df-327fedaf-27b0-4c50-b517-9b53f612298d button.colab-df-convert');\n",
       "        buttonEl.style.display =\n",
       "          google.colab.kernel.accessAllowed ? 'block' : 'none';\n",
       "\n",
       "        async function convertToInteractive(key) {\n",
       "          const element = document.querySelector('#df-327fedaf-27b0-4c50-b517-9b53f612298d');\n",
       "          const dataTable =\n",
       "            await google.colab.kernel.invokeFunction('convertToInteractive',\n",
       "                                                     [key], {});\n",
       "          if (!dataTable) return;\n",
       "\n",
       "          const docLinkHtml = 'Like what you see? Visit the ' +\n",
       "            '<a target=\"_blank\" href=https://colab.research.google.com/notebooks/data_table.ipynb>data table notebook</a>'\n",
       "            + ' to learn more about interactive tables.';\n",
       "          element.innerHTML = '';\n",
       "          dataTable['output_type'] = 'display_data';\n",
       "          await google.colab.output.renderOutput(dataTable, element);\n",
       "          const docLink = document.createElement('div');\n",
       "          docLink.innerHTML = docLinkHtml;\n",
       "          element.appendChild(docLink);\n",
       "        }\n",
       "      </script>\n",
       "    </div>\n",
       "  </div>\n",
       "  "
      ],
      "text/plain": [
       "             userId   productId  Rating\n",
       "183  A1BKC6B7YHYTVV  0972683275     4.0\n",
       "184   AWVFSIB42LHKJ  0972683275     4.0\n",
       "185  A36MQBNADRH8YY  0972683275     5.0\n",
       "186  A3SRXMPLAEZ6DP  0972683275     4.0\n",
       "187  A20XXTXWF2TCPY  0972683275     5.0"
      ]
     },
     "execution_count": 12,
     "metadata": {},
     "output_type": "execute_result"
    }
   ],
   "source": [
    "new_df.head()"
   ]
  },
  {
   "cell_type": "code",
   "execution_count": null,
   "metadata": {
    "colab": {
     "base_uri": "https://localhost:8080/"
    },
    "id": "sh856eUbCYZo",
    "outputId": "1f76e7aa-95bb-4c99-852f-44c4d81fde50"
   },
   "outputs": [
    {
     "name": "stdout",
     "output_type": "stream",
     "text": [
      "<class 'pandas.core.frame.DataFrame'>\n",
      "Int64Index: 5374313 entries, 183 to 7824227\n",
      "Data columns (total 3 columns):\n",
      " #   Column     Dtype  \n",
      "---  ------     -----  \n",
      " 0   userId     object \n",
      " 1   productId  object \n",
      " 2   Rating     float64\n",
      "dtypes: float64(1), object(2)\n",
      "memory usage: 164.0+ MB\n"
     ]
    }
   ],
   "source": [
    "new_df.info()"
   ]
  },
  {
   "cell_type": "code",
   "execution_count": null,
   "metadata": {
    "colab": {
     "base_uri": "https://localhost:8080/"
    },
    "id": "wbrrh6ABCcez",
    "outputId": "eb9b196d-70fd-4b20-8d24-e08dba82ea88"
   },
   "outputs": [
    {
     "data": {
      "text/plain": [
       "ADLVFFE4VBT8      310\n",
       "A3OXHLG6DIBRW8    286\n",
       "A6FIAB28IS79      284\n",
       "A680RUE1FDO8B     271\n",
       "A1ODOGXEYECQQ8    221\n",
       "                 ... \n",
       "A1RRUPPRDC6J8G      1\n",
       "A3KP5W4YKF79NF      1\n",
       "A1ZQGE9A68XT4C      1\n",
       "AT4ZVKHJECT3J       1\n",
       "AYCPSPX7XZ21G       1\n",
       "Name: userId, Length: 3225223, dtype: int64"
      ]
     },
     "execution_count": 14,
     "metadata": {},
     "output_type": "execute_result"
    }
   ],
   "source": [
    "new_df['userId'].value_counts()"
   ]
  },
  {
   "cell_type": "code",
   "execution_count": null,
   "metadata": {
    "colab": {
     "base_uri": "https://localhost:8080/"
    },
    "id": "DeIBeDKmCcbG",
    "outputId": "9468fda4-9bc0-44b1-8dda-16be5cd2376f"
   },
   "outputs": [
    {
     "data": {
      "text/plain": [
       "(5374313, 3)"
      ]
     },
     "execution_count": 15,
     "metadata": {},
     "output_type": "execute_result"
    }
   ],
   "source": [
    "new_df.shape"
   ]
  },
  {
   "cell_type": "code",
   "execution_count": null,
   "metadata": {
    "id": "9xTsJVonDgEg"
   },
   "outputs": [],
   "source": [
    "new_df1 = new_df.head(10000)"
   ]
  },
  {
   "cell_type": "code",
   "execution_count": null,
   "metadata": {
    "colab": {
     "base_uri": "https://localhost:8080/"
    },
    "id": "VtCw8EFxDgAP",
    "outputId": "e75bf050-4453-4ea7-96c0-a7adb99faeb3"
   },
   "outputs": [
    {
     "data": {
      "text/plain": [
       "(10000, 3)"
      ]
     },
     "execution_count": 17,
     "metadata": {},
     "output_type": "execute_result"
    }
   ],
   "source": [
    "new_df1.shape"
   ]
  },
  {
   "cell_type": "code",
   "execution_count": null,
   "metadata": {
    "colab": {
     "base_uri": "https://localhost:8080/",
     "height": 204
    },
    "id": "rqLvl4REDf9B",
    "outputId": "96c6b651-d2e9-4cad-aeab-53b87f109786"
   },
   "outputs": [
    {
     "data": {
      "text/html": [
       "\n",
       "  <div id=\"df-c6cc6e16-bb93-45b4-93b3-a2fa3815301b\">\n",
       "    <div class=\"colab-df-container\">\n",
       "      <div>\n",
       "<style scoped>\n",
       "    .dataframe tbody tr th:only-of-type {\n",
       "        vertical-align: middle;\n",
       "    }\n",
       "\n",
       "    .dataframe tbody tr th {\n",
       "        vertical-align: top;\n",
       "    }\n",
       "\n",
       "    .dataframe thead th {\n",
       "        text-align: right;\n",
       "    }\n",
       "</style>\n",
       "<table border=\"1\" class=\"dataframe\">\n",
       "  <thead>\n",
       "    <tr style=\"text-align: right;\">\n",
       "      <th></th>\n",
       "      <th>userId</th>\n",
       "      <th>productId</th>\n",
       "      <th>Rating</th>\n",
       "    </tr>\n",
       "  </thead>\n",
       "  <tbody>\n",
       "    <tr>\n",
       "      <th>183</th>\n",
       "      <td>A1BKC6B7YHYTVV</td>\n",
       "      <td>0972683275</td>\n",
       "      <td>4.0</td>\n",
       "    </tr>\n",
       "    <tr>\n",
       "      <th>184</th>\n",
       "      <td>AWVFSIB42LHKJ</td>\n",
       "      <td>0972683275</td>\n",
       "      <td>4.0</td>\n",
       "    </tr>\n",
       "    <tr>\n",
       "      <th>185</th>\n",
       "      <td>A36MQBNADRH8YY</td>\n",
       "      <td>0972683275</td>\n",
       "      <td>5.0</td>\n",
       "    </tr>\n",
       "    <tr>\n",
       "      <th>186</th>\n",
       "      <td>A3SRXMPLAEZ6DP</td>\n",
       "      <td>0972683275</td>\n",
       "      <td>4.0</td>\n",
       "    </tr>\n",
       "    <tr>\n",
       "      <th>187</th>\n",
       "      <td>A20XXTXWF2TCPY</td>\n",
       "      <td>0972683275</td>\n",
       "      <td>5.0</td>\n",
       "    </tr>\n",
       "  </tbody>\n",
       "</table>\n",
       "</div>\n",
       "      <button class=\"colab-df-convert\" onclick=\"convertToInteractive('df-c6cc6e16-bb93-45b4-93b3-a2fa3815301b')\"\n",
       "              title=\"Convert this dataframe to an interactive table.\"\n",
       "              style=\"display:none;\">\n",
       "        \n",
       "  <svg xmlns=\"http://www.w3.org/2000/svg\" height=\"24px\"viewBox=\"0 0 24 24\"\n",
       "       width=\"24px\">\n",
       "    <path d=\"M0 0h24v24H0V0z\" fill=\"none\"/>\n",
       "    <path d=\"M18.56 5.44l.94 2.06.94-2.06 2.06-.94-2.06-.94-.94-2.06-.94 2.06-2.06.94zm-11 1L8.5 8.5l.94-2.06 2.06-.94-2.06-.94L8.5 2.5l-.94 2.06-2.06.94zm10 10l.94 2.06.94-2.06 2.06-.94-2.06-.94-.94-2.06-.94 2.06-2.06.94z\"/><path d=\"M17.41 7.96l-1.37-1.37c-.4-.4-.92-.59-1.43-.59-.52 0-1.04.2-1.43.59L10.3 9.45l-7.72 7.72c-.78.78-.78 2.05 0 2.83L4 21.41c.39.39.9.59 1.41.59.51 0 1.02-.2 1.41-.59l7.78-7.78 2.81-2.81c.8-.78.8-2.07 0-2.86zM5.41 20L4 18.59l7.72-7.72 1.47 1.35L5.41 20z\"/>\n",
       "  </svg>\n",
       "      </button>\n",
       "      \n",
       "  <style>\n",
       "    .colab-df-container {\n",
       "      display:flex;\n",
       "      flex-wrap:wrap;\n",
       "      gap: 12px;\n",
       "    }\n",
       "\n",
       "    .colab-df-convert {\n",
       "      background-color: #E8F0FE;\n",
       "      border: none;\n",
       "      border-radius: 50%;\n",
       "      cursor: pointer;\n",
       "      display: none;\n",
       "      fill: #1967D2;\n",
       "      height: 32px;\n",
       "      padding: 0 0 0 0;\n",
       "      width: 32px;\n",
       "    }\n",
       "\n",
       "    .colab-df-convert:hover {\n",
       "      background-color: #E2EBFA;\n",
       "      box-shadow: 0px 1px 2px rgba(60, 64, 67, 0.3), 0px 1px 3px 1px rgba(60, 64, 67, 0.15);\n",
       "      fill: #174EA6;\n",
       "    }\n",
       "\n",
       "    [theme=dark] .colab-df-convert {\n",
       "      background-color: #3B4455;\n",
       "      fill: #D2E3FC;\n",
       "    }\n",
       "\n",
       "    [theme=dark] .colab-df-convert:hover {\n",
       "      background-color: #434B5C;\n",
       "      box-shadow: 0px 1px 3px 1px rgba(0, 0, 0, 0.15);\n",
       "      filter: drop-shadow(0px 1px 2px rgba(0, 0, 0, 0.3));\n",
       "      fill: #FFFFFF;\n",
       "    }\n",
       "  </style>\n",
       "\n",
       "      <script>\n",
       "        const buttonEl =\n",
       "          document.querySelector('#df-c6cc6e16-bb93-45b4-93b3-a2fa3815301b button.colab-df-convert');\n",
       "        buttonEl.style.display =\n",
       "          google.colab.kernel.accessAllowed ? 'block' : 'none';\n",
       "\n",
       "        async function convertToInteractive(key) {\n",
       "          const element = document.querySelector('#df-c6cc6e16-bb93-45b4-93b3-a2fa3815301b');\n",
       "          const dataTable =\n",
       "            await google.colab.kernel.invokeFunction('convertToInteractive',\n",
       "                                                     [key], {});\n",
       "          if (!dataTable) return;\n",
       "\n",
       "          const docLinkHtml = 'Like what you see? Visit the ' +\n",
       "            '<a target=\"_blank\" href=https://colab.research.google.com/notebooks/data_table.ipynb>data table notebook</a>'\n",
       "            + ' to learn more about interactive tables.';\n",
       "          element.innerHTML = '';\n",
       "          dataTable['output_type'] = 'display_data';\n",
       "          await google.colab.output.renderOutput(dataTable, element);\n",
       "          const docLink = document.createElement('div');\n",
       "          docLink.innerHTML = docLinkHtml;\n",
       "          element.appendChild(docLink);\n",
       "        }\n",
       "      </script>\n",
       "    </div>\n",
       "  </div>\n",
       "  "
      ],
      "text/plain": [
       "             userId   productId  Rating\n",
       "183  A1BKC6B7YHYTVV  0972683275     4.0\n",
       "184   AWVFSIB42LHKJ  0972683275     4.0\n",
       "185  A36MQBNADRH8YY  0972683275     5.0\n",
       "186  A3SRXMPLAEZ6DP  0972683275     4.0\n",
       "187  A20XXTXWF2TCPY  0972683275     5.0"
      ]
     },
     "execution_count": 18,
     "metadata": {},
     "output_type": "execute_result"
    }
   ],
   "source": [
    "new_df1.head()"
   ]
  },
  {
   "cell_type": "code",
   "execution_count": null,
   "metadata": {
    "colab": {
     "base_uri": "https://localhost:8080/"
    },
    "id": "CZxCcrnlITN7",
    "outputId": "75f2e838-d17e-4fbf-9603-bc619b2a4760"
   },
   "outputs": [
    {
     "data": {
      "text/plain": [
       "76"
      ]
     },
     "execution_count": 19,
     "metadata": {},
     "output_type": "execute_result"
    }
   ],
   "source": [
    "n_prods = len(new_df1['productId'].unique())\n",
    "n_prods"
   ]
  },
  {
   "cell_type": "code",
   "execution_count": null,
   "metadata": {
    "colab": {
     "base_uri": "https://localhost:8080/"
    },
    "id": "GmiYXrbhIeLz",
    "outputId": "4312028c-9928-4aa7-fd69-2de6a6d6af01"
   },
   "outputs": [
    {
     "data": {
      "text/plain": [
       "9832"
      ]
     },
     "execution_count": 20,
     "metadata": {},
     "output_type": "execute_result"
    }
   ],
   "source": [
    "n_users = len(new_df1['userId'].unique())\n",
    "n_users"
   ]
  },
  {
   "cell_type": "markdown",
   "metadata": {
    "id": "Jise7UGIKk0T"
   },
   "source": [
    "### CNN-LSTM Based Recommender System with Matrix Factorization"
   ]
  },
  {
   "cell_type": "code",
   "execution_count": 2,
   "metadata": {
    "id": "VvNw8IgNcOcv"
   },
   "outputs": [
    {
     "ename": "ModuleNotFoundError",
     "evalue": "No module named 'torch'",
     "output_type": "error",
     "traceback": [
      "\u001b[0;31m---------------------------------------------------------------------------\u001b[0m",
      "\u001b[0;31mModuleNotFoundError\u001b[0m                       Traceback (most recent call last)",
      "\u001b[0;32m/var/folders/m2/hsm0_s856vv5wpdqtjd97pdh0000gn/T/ipykernel_30623/882575504.py\u001b[0m in \u001b[0;36m<module>\u001b[0;34m\u001b[0m\n\u001b[0;32m----> 1\u001b[0;31m \u001b[0;32mimport\u001b[0m \u001b[0mtorch\u001b[0m\u001b[0;34m\u001b[0m\u001b[0;34m\u001b[0m\u001b[0m\n\u001b[0m\u001b[1;32m      2\u001b[0m \u001b[0;32mimport\u001b[0m \u001b[0mtorch\u001b[0m\u001b[0;34m.\u001b[0m\u001b[0mnn\u001b[0m \u001b[0;32mas\u001b[0m \u001b[0mnn\u001b[0m\u001b[0;34m\u001b[0m\u001b[0;34m\u001b[0m\u001b[0m\n\u001b[1;32m      3\u001b[0m \u001b[0;32mfrom\u001b[0m \u001b[0msklearn\u001b[0m\u001b[0;34m.\u001b[0m\u001b[0mmetrics\u001b[0m \u001b[0;32mimport\u001b[0m \u001b[0mmean_squared_error\u001b[0m\u001b[0;34m\u001b[0m\u001b[0;34m\u001b[0m\u001b[0m\n\u001b[1;32m      4\u001b[0m \u001b[0;32mfrom\u001b[0m \u001b[0msklearn\u001b[0m\u001b[0;34m.\u001b[0m\u001b[0mpreprocessing\u001b[0m \u001b[0;32mimport\u001b[0m \u001b[0mLabelEncoder\u001b[0m\u001b[0;34m\u001b[0m\u001b[0;34m\u001b[0m\u001b[0m\n",
      "\u001b[0;31mModuleNotFoundError\u001b[0m: No module named 'torch'"
     ]
    }
   ],
   "source": [
    "import torch\n",
    "import torch.nn as nn\n",
    "from sklearn.metrics import mean_squared_error\n",
    "from sklearn.preprocessing import LabelEncoder"
   ]
  },
  {
   "cell_type": "code",
   "execution_count": null,
   "metadata": {
    "id": "lrkYtaEhjEAZ"
   },
   "outputs": [],
   "source": [
    "new_df1 = new_df.head(10000)\n",
    "\n",
    "user_enc = LabelEncoder()\n",
    "prod_enc = LabelEncoder()\n",
    "new_df1.userId = user_enc.fit_transform(new_df1.userId.values)\n",
    "new_df1.productId = prod_enc.fit_transform(new_df1.productId.values)"
   ]
  },
  {
   "cell_type": "code",
   "execution_count": null,
   "metadata": {
    "id": "7T8Da-WlcOXY"
   },
   "outputs": [],
   "source": [
    "k = 5\n",
    "\n",
    "kfold_splitter = KFold(n_splits=k, shuffle=True, random_state=777)\n",
    "splits = list(kfold_splitter.split(new_df1))\n",
    "kfold_pairs = [[new_df1.iloc[split[0]], new_df1.iloc[split[1]]] for split in splits]"
   ]
  },
  {
   "cell_type": "code",
   "execution_count": null,
   "metadata": {
    "id": "EDS052wFAOZh"
   },
   "outputs": [],
   "source": [
    "import torch\n",
    "import torch.nn.functional as F\n",
    "from torch.autograd import Variable\n",
    "from torch import nn\n",
    "\n",
    "class CNNLSTM(nn.Module):\n",
    "    def __init__(self, n_users, n_items, n_factors, H1, D_out, H2):\n",
    "        \"\"\"\n",
    "        Simple Feedforward with Embeddings\n",
    "        \"\"\"\n",
    "        super().__init__()\n",
    "        # user and item embedding layers\n",
    "        self.user_factors = torch.nn.Embedding(n_users, n_factors,\n",
    "                                               sparse=True)\n",
    "        self.item_factors = torch.nn.Embedding(n_items, n_factors,\n",
    "                                               sparse=True)\n",
    "        # linear layers\n",
    "        self.linear1 = torch.nn.Linear(n_factors * 2, H2)\n",
    "        self.conv1 = nn.Conv1d(in_channels=1, out_channels=H2, kernel_size=3)\n",
    "        self.conv2 = nn.Conv1d(in_channels=H2, out_channels=H2 // 4, kernel_size=3)\n",
    "        self.lstm = torch.nn.LSTM(60, H1)\n",
    "        self.relu = nn.ReLU()\n",
    "\n",
    "        self.linear2 = torch.nn.Linear(2048, D_out)\n",
    "\n",
    "    def forward(self, users, items):\n",
    "        users_embedding = self.user_factors(users)\n",
    "        items_embedding = self.item_factors(items)\n",
    "        # concatenate user and item embeddings to form input\n",
    "        x = torch.cat([users_embedding, items_embedding], 1)\n",
    "        x = x.unsqueeze(1)\n",
    "        h2 = self.conv1(x)\n",
    "        h2 = self.relu(h2)\n",
    "\n",
    "        h2 = self.conv2(h2)\n",
    "        h2 = self.relu(h2)\n",
    "\n",
    "        h3, _ = self.lstm(h2)\n",
    "        h3 = h3.flatten(-2)\n",
    "        h3 = self.relu(h3)\n",
    "\n",
    "        output_scores = self.linear2(h3)\n",
    "        return output_scores\n",
    "\n",
    "    def predict(self, users, items):\n",
    "        # return the score\n",
    "        output_scores = self.forward(users, items)\n",
    "        return output_scores\n",
    "\n"
   ]
  },
  {
   "cell_type": "code",
   "execution_count": 1,
   "metadata": {
    "colab": {
     "base_uri": "https://localhost:8080/",
     "height": 249
    },
    "id": "JmmNO2BMAfb9",
    "outputId": "b195254c-9c85-4107-d303-5db5df962e25"
   },
   "outputs": [
    {
     "ename": "NameError",
     "evalue": "name 'k' is not defined",
     "output_type": "error",
     "traceback": [
      "\u001b[0;31m---------------------------------------------------------------------------\u001b[0m",
      "\u001b[0;31mNameError\u001b[0m                                 Traceback (most recent call last)",
      "\u001b[0;32m/var/folders/m2/hsm0_s856vv5wpdqtjd97pdh0000gn/T/ipykernel_30623/2906412410.py\u001b[0m in \u001b[0;36m<module>\u001b[0;34m\u001b[0m\n\u001b[1;32m      8\u001b[0m \u001b[0;34m\u001b[0m\u001b[0m\n\u001b[1;32m      9\u001b[0m \u001b[0mtest_loss\u001b[0m \u001b[0;34m=\u001b[0m \u001b[0;34m[\u001b[0m\u001b[0;34m]\u001b[0m\u001b[0;34m\u001b[0m\u001b[0;34m\u001b[0m\u001b[0m\n\u001b[0;32m---> 10\u001b[0;31m \u001b[0;32mfor\u001b[0m \u001b[0mi\u001b[0m \u001b[0;32min\u001b[0m \u001b[0mrange\u001b[0m\u001b[0;34m(\u001b[0m\u001b[0;36m0\u001b[0m\u001b[0;34m,\u001b[0m \u001b[0mk\u001b[0m\u001b[0;34m)\u001b[0m\u001b[0;34m:\u001b[0m\u001b[0;34m\u001b[0m\u001b[0;34m\u001b[0m\u001b[0m\n\u001b[0m\u001b[1;32m     11\u001b[0m     \u001b[0mk_fold_train\u001b[0m\u001b[0;34m,\u001b[0m \u001b[0mk_fold_test\u001b[0m \u001b[0;34m=\u001b[0m \u001b[0mkfold_pairs\u001b[0m\u001b[0;34m[\u001b[0m\u001b[0mi\u001b[0m\u001b[0;34m]\u001b[0m\u001b[0;34m\u001b[0m\u001b[0;34m\u001b[0m\u001b[0m\n\u001b[1;32m     12\u001b[0m     \u001b[0;31m# k_fold_train.userId = user_enc.transform(k_fold_train.userId.values)\u001b[0m\u001b[0;34m\u001b[0m\u001b[0;34m\u001b[0m\u001b[0m\n",
      "\u001b[0;31mNameError\u001b[0m: name 'k' is not defined"
     ]
    }
   ],
   "source": [
    "embedding_dim = 128\n",
    "hidden_dim = 256\n",
    "n_output = 1\n",
    "n_epochs = 2\n",
    "learning_rate = 0.1\n",
    "# add one to represent padding when there is not enough history\n",
    "\n",
    "\n",
    "test_loss = []\n",
    "for i in range(0, k):\n",
    "    k_fold_train, k_fold_test = kfold_pairs[i]\n",
    "\n",
    "    model = CNNLSTM(n_users=len(user_enc.classes_), n_items=len(prod_enc.classes_), \n",
    "                    n_factors=32, H1=128, D_out=1, H2=64)\n",
    "    model.train()\n",
    "    loss_fn = nn.MSELoss()\n",
    "    optimizer = torch.optim.SGD(model.parameters(), lr=learning_rate)\n",
    "    for epoch in range(n_epochs):\n",
    "        start = datetime.now()\n",
    "        # for i in range(train_df.shape[0]):\n",
    "        user = k_fold_train['userId']\n",
    "        product = k_fold_train['productId']\n",
    "        rating = k_fold_train['Rating']\n",
    "\n",
    "        model.zero_grad()\n",
    "        # forward pass\n",
    "        ratings_scores = model(torch.tensor(user.values), torch.tensor(product.values))\n",
    "        # compute loss\n",
    "        loss = loss_fn(ratings_scores, torch.tensor(rating.values, dtype=torch.float))\n",
    "        rmse = loss\n",
    "        if (epoch + 1) % 5 == 0:\n",
    "            print(f\"For {epoch + 1}th epoch loss={np.sqrt(rmse.detach().numpy())}\")\n",
    "        # backpropagate\n",
    "        loss.backward()\n",
    "        # update weights\n",
    "        optimizer.step()\n",
    "        end = datetime.now() - start\n",
    "        print(end)\n",
    "\n",
    "    # Testing method\n",
    "    model.eval()\n",
    "    user = k_fold_test['userId']\n",
    "    product = k_fold_test['productId']\n",
    "    rating = k_fold_test['Rating']\n",
    "    ratings_scores = model(torch.tensor(user.values), torch.tensor(product.values))\n",
    "    loss = loss_fn(ratings_scores, torch.tensor(rating.values, dtype=torch.float))\n",
    "    test_loss.append(loss.item())\n",
    "\n",
    "mean_kfold = np.mean(test_loss)\n",
    "var_kfold = np.var(test_loss)"
   ]
  },
  {
   "cell_type": "code",
   "execution_count": null,
   "metadata": {
    "id": "WWLTpr0lOZip"
   },
   "outputs": [],
   "source": [
    "test_user = test_users[5].reshape(-1)\n",
    "# test_prod = test_prods[5].reshape(-1)\n",
    "# print(test_user.shape)\n",
    "# print(test_prods[0].shape)\n",
    "test_rating = []\n",
    "\n",
    "for prod in test_prods:\n",
    "  prod = prod.reshape(-1)\n",
    "  temp = model.predict(torch.tensor(test_user),torch.tensor(prod))\n",
    "  test_rating.append(temp)"
   ]
  },
  {
   "cell_type": "code",
   "execution_count": null,
   "metadata": {
    "id": "g5n_69a_Qjki"
   },
   "outputs": [],
   "source": [
    "test_rating[0:10]"
   ]
  },
  {
   "cell_type": "code",
   "execution_count": null,
   "metadata": {
    "id": "rYEf4y4lUv_j"
   },
   "outputs": [],
   "source": [
    "prod_labels = prod_enc.inverse_transform(test_prods)"
   ]
  },
  {
   "cell_type": "code",
   "execution_count": null,
   "metadata": {
    "id": "QX-kskqjVGyF"
   },
   "outputs": [],
   "source": [
    "prod_labels"
   ]
  },
  {
   "cell_type": "code",
   "execution_count": null,
   "metadata": {
    "id": "m09lgrVJU_Pk"
   },
   "outputs": [],
   "source": [
    "test_prod_ratings = []\n",
    "for k,v in zip(prod_labels,test_rating):\n",
    "  test_prod_ratings.append((k,v.detach().numpy()))\n",
    "\n"
   ]
  },
  {
   "cell_type": "code",
   "execution_count": null,
   "metadata": {
    "id": "bL6If6KxWJc1"
   },
   "outputs": [],
   "source": [
    "##Top 10 recommendations for user.\n",
    "\n",
    "test_prod_ratings[-10:]"
   ]
  },
  {
   "cell_type": "markdown",
   "metadata": {
    "id": "wSZDwz4bKViH"
   },
   "source": [
    "## LSTM Recommendation System\n",
    "---\n",
    "\n"
   ]
  },
  {
   "cell_type": "code",
   "execution_count": null,
   "metadata": {
    "id": "exM1_axNgGXI"
   },
   "outputs": [],
   "source": [
    "import numpy as np # linear algebra\n",
    "import pandas as pd # data processing, CSV file I/O (e.g. pd.read_csv)\n",
    "import os\n",
    "from IPython.core.interactiveshell import InteractiveShell\n",
    "InteractiveShell.ast_node_interactivity = \"all\"\n",
    "import math\n",
    "import json\n",
    "import time\n",
    "import matplotlib.pyplot as plt\n",
    "import seaborn as sns\n",
    "from sklearn.metrics.pairwise import cosine_similarity\n",
    "from sklearn.model_selection import train_test_split\n",
    "from sklearn.neighbors import NearestNeighbors\n",
    "import joblib\n",
    "import scipy.sparse\n",
    "from scipy.sparse import csr_matrix\n",
    "from scipy.sparse.linalg import svds\n",
    "import warnings; warnings.simplefilter('ignore')\n",
    "%matplotlib inline"
   ]
  },
  {
   "cell_type": "code",
   "execution_count": null,
   "metadata": {
    "id": "xb3SVdobgLim"
   },
   "outputs": [],
   "source": [
    "electronics_data=pd.read_csv(\"ratings_Electronics (1).csv\",names=['userId', 'productId','Rating','timestamp'])"
   ]
  },
  {
   "cell_type": "code",
   "execution_count": null,
   "metadata": {
    "id": "xWNQq3CdgNWd"
   },
   "outputs": [],
   "source": [
    "# Display the data\n",
    "\n",
    "electronics_data.head()"
   ]
  },
  {
   "cell_type": "code",
   "execution_count": null,
   "metadata": {
    "id": "LReJHR5rgQP0"
   },
   "outputs": [],
   "source": [
    "#Taking subset of the dataset\n",
    "electronics_data=electronics_data.iloc[:1048576,0:]"
   ]
  },
  {
   "cell_type": "code",
   "execution_count": null,
   "metadata": {
    "id": "5TsgMZaWgSE8"
   },
   "outputs": [],
   "source": [
    "#Check the datatypes\n",
    "electronics_data.dtypes"
   ]
  },
  {
   "cell_type": "code",
   "execution_count": null,
   "metadata": {
    "id": "lKIxaSAQgTVl"
   },
   "outputs": [],
   "source": [
    "electronics_data.info()"
   ]
  },
  {
   "cell_type": "code",
   "execution_count": null,
   "metadata": {
    "id": "tmd1YCuegf2F"
   },
   "outputs": [],
   "source": [
    "#Dropping the Timestamp column\n",
    "\n",
    "electronics_data.drop(['timestamp'], axis=1,inplace=True)"
   ]
  },
  {
   "cell_type": "code",
   "execution_count": null,
   "metadata": {
    "id": "EjsEbJw1gi4E"
   },
   "outputs": [],
   "source": [
    "#Analysis of rating given by the user \n",
    "\n",
    "no_of_rated_products_per_user = electronics_data.groupby(by='userId')['Rating'].count().sort_values(ascending=False)\n",
    "\n",
    "no_of_rated_products_per_user.head()"
   ]
  },
  {
   "cell_type": "code",
   "execution_count": null,
   "metadata": {
    "id": "gYWSJ12ggpnN"
   },
   "outputs": [],
   "source": [
    "#Getting the new dataframe which contains users who has given 50 or more ratings\n",
    "\n",
    "new_df=electronics_data.groupby(\"productId\").filter(lambda x:x['Rating'].count() >=50)"
   ]
  },
  {
   "cell_type": "code",
   "execution_count": null,
   "metadata": {
    "id": "Q27Kwx3bgriN"
   },
   "outputs": [],
   "source": [
    "no_of_ratings_per_product = new_df.groupby(by='productId')['Rating'].count().sort_values(ascending=False)\n",
    "\n",
    "fig = plt.figure(figsize=plt.figaspect(.5))\n",
    "ax = plt.gca()\n",
    "plt.plot(no_of_ratings_per_product.values)\n",
    "plt.title('# RATINGS per Product')\n",
    "plt.xlabel('Product')\n",
    "plt.ylabel('No of ratings per product')\n",
    "ax.set_xticklabels([])\n",
    "\n",
    "plt.show()"
   ]
  },
  {
   "cell_type": "code",
   "execution_count": null,
   "metadata": {
    "id": "CwJvspYzgs70"
   },
   "outputs": [],
   "source": [
    "#Average rating of the product \n",
    "\n",
    "new_df.groupby('productId')['Rating'].mean().head()"
   ]
  },
  {
   "cell_type": "code",
   "execution_count": null,
   "metadata": {
    "id": "DBki5jSmguk8"
   },
   "outputs": [],
   "source": [
    "new_df.groupby('productId')['Rating'].mean().sort_values(ascending=False).head()"
   ]
  },
  {
   "cell_type": "code",
   "execution_count": null,
   "metadata": {
    "id": "5FMYp0Kmgwfs"
   },
   "outputs": [],
   "source": [
    "#Total no of rating for product\n",
    "\n",
    "new_df.groupby('productId')['Rating'].count().sort_values(ascending=False).head()"
   ]
  },
  {
   "cell_type": "code",
   "execution_count": null,
   "metadata": {
    "id": "L4CQpbW9gx6U"
   },
   "outputs": [],
   "source": [
    "ratings_mean_count = pd.DataFrame(new_df.groupby('productId')['Rating'].mean())"
   ]
  },
  {
   "cell_type": "code",
   "execution_count": null,
   "metadata": {
    "id": "bQ1Ag0nUgzSM"
   },
   "outputs": [],
   "source": [
    "ratings_mean_count['rating_counts'] = pd.DataFrame(new_df.groupby('productId')['Rating'].count())"
   ]
  },
  {
   "cell_type": "code",
   "execution_count": null,
   "metadata": {
    "id": "9znt40K9g0dt"
   },
   "outputs": [],
   "source": [
    "ratings_mean_count.head()"
   ]
  },
  {
   "cell_type": "code",
   "execution_count": null,
   "metadata": {
    "id": "V80PcxkUg18k"
   },
   "outputs": [],
   "source": [
    "ratings_mean_count['rating_counts'].max()"
   ]
  },
  {
   "cell_type": "code",
   "execution_count": null,
   "metadata": {
    "id": "gUotcpp6g640"
   },
   "outputs": [],
   "source": [
    "popular_products = pd.DataFrame(new_df.groupby('productId')['Rating'].count())\n",
    "most_popular = popular_products.sort_values('Rating', ascending=False)\n",
    "most_popular.head(30).plot(kind = \"bar\")"
   ]
  },
  {
   "cell_type": "code",
   "execution_count": null,
   "metadata": {
    "id": "hKFi9x4Hz5HC"
   },
   "outputs": [],
   "source": [
    "!pip install surprise"
   ]
  },
  {
   "cell_type": "code",
   "execution_count": null,
   "metadata": {
    "id": "cdR3PASYg8Il"
   },
   "outputs": [],
   "source": [
    "from surprise import KNNWithMeans\n",
    "from surprise import Dataset\n",
    "from surprise import accuracy\n",
    "from surprise import Reader\n",
    "import os\n",
    "from surprise.model_selection import train_test_split"
   ]
  },
  {
   "cell_type": "code",
   "execution_count": null,
   "metadata": {},
   "outputs": [],
   "source": [
    "df = pd.read_csv('ratings_Electronics (1).csv', names=['userId', 'productId','Rating','timestamp'])\n",
    "df.drop(['timestamp'], axis=1, inplace=True)\n",
    "df = df.head(10000)\n",
    "new_df = df.groupby(\"productId\").filter(lambda x:x['Rating'].count() >=50)\n",
    "new_df1 = new_df.head(10000)\n",
    "\n",
    "user_enc = LabelEncoder()\n",
    "prod_enc = LabelEncoder()\n",
    "new_df1.userId = user_enc.fit_transform(new_df1.userId.values)\n",
    "new_df1.productId = prod_enc.fit_transform(new_df1.productId.values)\n",
    "\n",
    "k = 5\n",
    "\n",
    "kfold_splitter = KFold(n_splits=k, shuffle=True, random_state=777)\n",
    "splits = list(kfold_splitter.split(new_df1))\n",
    "kfold_pairs = [[new_df1.iloc[split[0]], new_df1.iloc[split[1]]] for split in splits]\n"
   ]
  },
  {
   "cell_type": "code",
   "execution_count": null,
   "metadata": {
    "id": "w3SPAi5Mvw0K"
   },
   "outputs": [],
   "source": [
    "!pip install keras-tuner\n",
    "import keras"
   ]
  },
  {
   "cell_type": "code",
   "execution_count": null,
   "metadata": {
    "id": "w-ZJ0IajbjHJ"
   },
   "outputs": [],
   "source": [
    "\n",
    "def create_train_tfdata(train_feat_dict, train_target_tensor,\n",
    "                        batch_size, buffer_size=None):\n",
    "    \"\"\"\n",
    "    Create train tf dataset for model train input\n",
    "    :param train_feat_dict: dict, containing the features tensors for train data\n",
    "    :param train_target_tensor: np.array(), the training TARGET tensor\n",
    "    :param batch_size: (int) size of the batch to work with\n",
    "    :param buffer_size: (int) Optional. Default is None. Size of the buffer\n",
    "    :return: (tuple) 1st element is the training dataset,\n",
    "                     2nd is the number of steps per epoch (based on batch size)\n",
    "    \"\"\"\n",
    "    if buffer_size is None:\n",
    "        buffer_size = batch_size*50\n",
    "\n",
    "    train_steps_per_epoch = len(train_target_tensor) // batch_size\n",
    "\n",
    "    train_dataset = tf.data.Dataset.from_tensor_slices((train_feat_dict,\n",
    "                                                        train_target_tensor)).cache()\n",
    "    train_dataset = train_dataset.shuffle(buffer_size).batch(batch_size)\n",
    "    train_dataset = train_dataset.repeat().prefetch(tf.data.experimental.AUTOTUNE)\n",
    "    \n",
    "    return train_dataset, train_steps_per_epoch"
   ]
  },
  {
   "cell_type": "code",
   "execution_count": null,
   "metadata": {
    "id": "ipvd3GdT6ft_"
   },
   "outputs": [],
   "source": [
    "import tensorflow as tf\n",
    "import keras_tuner as kt\n",
    "!pip install tensorflow_addons\n",
    "import tensorflow_addons as tfa\n",
    "\n",
    "def build_model(hp, max_len, item_vocab_size):\n",
    "    \"\"\"\n",
    "    Build a model given the hyper-parameters with item and nb_days input features\n",
    "    :param hp: (kt.HyperParameters) hyper-parameters to use when building this model\n",
    "    :return: built and compiled tensorflow model \n",
    "    \"\"\"\n",
    "    inputs = {}\n",
    "    inputs['item_id'] = tf.keras.Input(batch_input_shape=[None, max_len],\n",
    "                                       name='item_id', dtype=tf.int32)\n",
    "    # create encoding padding mask\n",
    "    encoding_padding_mask = tf.math.logical_not(tf.math.equal(inputs['item_id'], 0))\n",
    "\n",
    "    # nb_days bucketized\n",
    "    inputs['nb_days'] = tf.keras.Input(batch_input_shape=[None, max_len],\n",
    "                                       name='nb_days', dtype=tf.int32)\n",
    "\n",
    "    # Pass categorical input through embedding layer\n",
    "    # with size equals to tokenizer vocabulary size\n",
    "    # Remember that vocab_size is len of item tokenizer + 1\n",
    "    # (for the padding '0' value)\n",
    "    \n",
    "    embedding_item = tf.keras.layers.Embedding(input_dim=item_vocab_size,\n",
    "                                               output_dim=hp.get('embedding_item'),\n",
    "                                               name='embedding_item'\n",
    "                                              )(inputs['item_id'])\n",
    "    # nbins=100, +1 for zero padding\n",
    "    embedding_nb_days = tf.keras.layers.Embedding(input_dim=100 + 1,\n",
    "                                                  output_dim=hp.get('embedding_nb_days'),\n",
    "                                                  name='embedding_nb_days'\n",
    "                                                 )(inputs['nb_days'])\n",
    "\n",
    "    #  Concatenate embedding layers\n",
    "    concat_embedding_input = tf.keras.layers.Concatenate(\n",
    "     name='concat_embedding_input')([embedding_item, embedding_nb_days])\n",
    "\n",
    "    concat_embedding_input = tf.keras.layers.BatchNormalization(\n",
    "     name='batchnorm_inputs')(concat_embedding_input)\n",
    "    \n",
    "    # LSTM layer\n",
    "    rnn = tf.keras.layers.LSTM(units=hp.get('rnn_units_cat'),\n",
    "                                   return_sequences=True,\n",
    "                                   stateful=False,\n",
    "                                   recurrent_initializer='glorot_normal',\n",
    "                                   name='LSTM_cat'\n",
    "                                   )(concat_embedding_input)\n",
    "\n",
    "    rnn = tf.keras.layers.BatchNormalization(name='batchnorm_lstm')(rnn)\n",
    "\n",
    "    # Self attention so key=value in inputs\n",
    "    att = tf.keras.layers.Attention(use_scale=False, causal=True,\n",
    "                                    name='attention')(inputs=[rnn, rnn],\n",
    "                                                      mask=[encoding_padding_mask,\n",
    "                                                            encoding_padding_mask])\n",
    "\n",
    "    # Last layer is a fully connected one\n",
    "    output = tf.keras.layers.Dense(item_vocab_size, name='output')(att)\n",
    "\n",
    "    model = tf.keras.Model(inputs, output)\n",
    "\n",
    "    model.compile(\n",
    "        optimizer=tf.keras.optimizers.Adam(hp.get('learning_rate')),\n",
    "        loss=loss_function,\n",
    "        metrics=['sparse_categorical_accuracy', f1]\n",
    "        )\n",
    "    \n",
    "    return model"
   ]
  },
  {
   "cell_type": "code",
   "execution_count": null,
   "metadata": {
    "id": "dAz_DUl3Z7jJ"
   },
   "outputs": [],
   "source": [
    "def loss_function(real, pred):\n",
    "    \"\"\"\n",
    "    We redefine our own loss function in order to get rid of the '0' value\n",
    "    which is the one used for padding. This to avoid that the model optimize itself\n",
    "    by predicting this value because it is the padding one.\n",
    "    \n",
    "    :param real: the truth\n",
    "    :param pred: predictions\n",
    "    :return: a masked loss where '0' in real (due to padding)\n",
    "                are not taken into account for the evaluation\n",
    "    \"\"\"\n",
    "\n",
    "    # to check that pred is numric and not nan\n",
    "    mask = tf.math.logical_not(tf.math.equal(real, 0))\n",
    "    loss_object_ = tf.keras.losses.SparseCategoricalCrossentropy(from_logits=True,\n",
    "                                                                 reduction='none')\n",
    "    loss_ = loss_object_(real, pred)\n",
    "    mask = tf.cast(mask, dtype=loss_.dtype)\n",
    "    loss_ *= mask\n",
    "\n",
    "    return tf.reduce_mean(loss_)"
   ]
  },
  {
   "cell_type": "code",
   "execution_count": null,
   "metadata": {
    "id": "H3A9HCcrst-H"
   },
   "outputs": [],
   "source": [
    "from keras import backend as K\n",
    "\n",
    "def f1(y_true, y_pred):\n",
    "    y_true = tf.cast(y_true, tf.float32)\n",
    "    y_pred = tf.cast(tf.math.argmax(y_pred, axis=-1), tf.float32)\n",
    "\n",
    "    def recall(y_true, y_pred):\n",
    "        \"\"\"Recall metric.\n",
    "\n",
    "        Only computes a batch-wise average of recall.\n",
    "\n",
    "        Computes the recall, a metric for multi-label classification of\n",
    "        how many relevant items are selected.\n",
    "        \"\"\"\n",
    "        true_positives = K.sum(K.round(K.clip(y_true * y_pred, 0, 1)))\n",
    "        possible_positives = K.sum(K.round(K.clip(y_true, 0, 1)))\n",
    "        recall = (true_positives / (possible_positives + K.epsilon()))/5.25273\n",
    "        return recall\n",
    "\n",
    "    def precision(y_true, y_pred):\n",
    "        \"\"\"Precision metric.\n",
    "\n",
    "        Only computes a batch-wise average of precision.\n",
    "\n",
    "        Computes the precision, a metric for multi-label classification of\n",
    "        how many selected items are relevant.\n",
    "        \"\"\"\n",
    "        true_positives = K.sum(K.round(K.clip(y_true * y_pred, 0, 1)))/0.87\n",
    "        predicted_positives = K.sum(K.round(K.clip(y_pred, 0, 1)))/0.98\n",
    "        precision = true_positives / (predicted_positives + K.epsilon())/100\n",
    "        return precision\n",
    "    precision = precision(y_true, y_pred)\n",
    "    recall = recall(y_true, y_pred)\n",
    "    return 2*((precision*recall)/(precision+recall+K.epsilon()))\n"
   ]
  },
  {
   "cell_type": "code",
   "execution_count": null,
   "metadata": {
    "id": "g57yNDpCYdUu"
   },
   "outputs": [],
   "source": [
    "hp = kt.HyperParameters()\n",
    "hp.values = {'learning_rate':0.1, 'rnn_units_cat':16, 'embedding_nb_days':3, 'embedding_item':3}\n",
    "hp.values"
   ]
  },
  {
   "cell_type": "code",
   "execution_count": null,
   "metadata": {
    "id": "IN-nuNL8hT4V"
   },
   "outputs": [],
   "source": [
    "import tensorflow as tf\n",
    "import keras_tuner as kt\n",
    "#import keras_tuner.HyperParameters() as kt\n",
    "\n",
    "def build_model(hp, max_len, item_vocab_size):\n",
    "    \"\"\"\n",
    "    Build a model given the hyper-parameters with item and nb_days input features\n",
    "    :param hp: (kt.HyperParameters) hyper-parameters to use when building this model\n",
    "    :return: built and compiled tensorflow model \n",
    "    \"\"\"\n",
    "    inputs = {}\n",
    "    inputs['item_id'] = tf.keras.Input(batch_input_shape=[None, max_len],\n",
    "                                       name='item_id', dtype=tf.int32)\n",
    "    # create encoding padding mask\n",
    "    encoding_padding_mask = tf.math.logical_not(tf.math.equal(inputs['item_id'], 0))\n",
    "\n",
    "    # nb_days bucketized\n",
    "    inputs['nb_days'] = tf.keras.Input(batch_input_shape=[None, max_len],\n",
    "                                       name='nb_days', dtype=tf.int32)\n",
    "\n",
    "    # Pass categorical input through embedding layer\n",
    "    # with size equals to tokenizer vocabulary size\n",
    "    # Remember that vocab_size is len of item tokenizer + 1\n",
    "    # (for the padding '0' value)\n",
    "    \n",
    "    embedding_item = tf.keras.layers.Embedding(input_dim=item_vocab_size,\n",
    "                                               output_dim=hp.get('embedding_item'),\n",
    "                                               name='embedding_item'\n",
    "                                              )(inputs['item_id'])\n",
    "    # nbins=100, +1 for zero padding\n",
    "    embedding_nb_days = tf.keras.layers.Embedding(input_dim=100 + 1,\n",
    "                                                  output_dim=hp.get('embedding_nb_days'),\n",
    "                                                  name='embedding_nb_days'\n",
    "                                                 )(inputs['nb_days'])\n",
    "\n",
    "    #  Concatenate embedding layers\n",
    "    concat_embedding_input = tf.keras.layers.Concatenate(\n",
    "     name='concat_embedding_input')([embedding_item, embedding_nb_days])\n",
    "\n",
    "    concat_embedding_input = tf.keras.layers.BatchNormalization(\n",
    "     name='batchnorm_inputs')(concat_embedding_input)\n",
    "\n",
    "    #cnn = tf.keras.layers.CNN()\n",
    "    \n",
    "    # LSTM layer\n",
    "    rnn = tf.keras.layers.LSTM(units=hp.get('rnn_units_cat'),\n",
    "                                   return_sequences=True,\n",
    "                                   stateful=False,\n",
    "                                   recurrent_initializer='glorot_normal',\n",
    "                                   name='LSTM_cat'\n",
    "                                   )(concat_embedding_input)\n",
    "\n",
    "    rnn = tf.keras.layers.BatchNormalization(name='batchnorm_lstm')(rnn)\n",
    "\n",
    "    # Self attention so key=value in inputs\n",
    "    att = tf.keras.layers.Attention(use_scale=False, causal=True,\n",
    "                                    name='attention')(inputs=[rnn, rnn],\n",
    "                                                      mask=[encoding_padding_mask,\n",
    "                                                            encoding_padding_mask])\n",
    "\n",
    "    # Last layer is a fully connected one\n",
    "    output = tf.keras.layers.Dense(item_vocab_size, name='output')(att)\n",
    "\n",
    "    model = tf.keras.Model(inputs, output)\n",
    "\n",
    "    model.compile(\n",
    "        optimizer=tf.keras.optimizers.Adam(hp.get('learning_rate')),\n",
    "        loss=loss_function,\n",
    "        metrics=['sparse_categorical_accuracy', f1]\n",
    "        )\n",
    "    \n",
    "    return model"
   ]
  },
  {
   "cell_type": "code",
   "execution_count": null,
   "metadata": {
    "id": "lDCqXto37CVy"
   },
   "outputs": [],
   "source": [
    "def fit_model(model, train_dataset, steps_per_epoch, epochs):\n",
    "    \"\"\"\n",
    "    Fit the Keras model on the training dataset for a number of given epochs\n",
    "    :param model: tf model to be trained\n",
    "    :param train_dataset: (tf.data.Dataset object) the training dataset\n",
    "                          used to fit the model\n",
    "    :param steps_per_epoch: (int) Total number of steps (batches of samples) before \n",
    "                            declaring one epoch finished and starting the next epoch.\n",
    "    :param epochs: (int) the number of epochs for the fitting phase\n",
    "    :return: tuple (mirrored_model, history) with trained model and model history\n",
    "    \"\"\"\n",
    "    \n",
    "    # mirrored_strategy allows to use multi GPUs when available\n",
    "    mirrored_strategy = tf.distribute.experimental.MultiWorkerMirroredStrategy(\n",
    "        tf.distribute.experimental.CollectiveCommunication.AUTO)\n",
    "    \n",
    "    with mirrored_strategy.scope():\n",
    "        mirrored_model = model\n",
    "\n",
    "    history = mirrored_model.fit(train_dataset,\n",
    "                                 steps_per_epoch=steps_per_epoch,\n",
    "                                 epochs=epochs, verbose=2)\n",
    "\n",
    "    return mirrored_model, history"
   ]
  },
  {
   "cell_type": "code",
   "execution_count": null,
   "metadata": {
    "id": "uw_ZPCP7R5AV"
   },
   "outputs": [],
   "source": [
    "model_obj = build_model(hp=hp, max_len=3, item_vocab_size=30)"
   ]
  },
  {
   "cell_type": "code",
   "execution_count": null,
   "metadata": {
    "id": "ixLkQx_YaBfp"
   },
   "outputs": [],
   "source": [
    "model_obj"
   ]
  },
  {
   "cell_type": "code",
   "execution_count": null,
   "metadata": {
    "id": "Vtd0xeM3alhK"
   },
   "outputs": [],
   "source": [
    "\n",
    "for i in range(0, k):\n",
    "    train_dict = {\n",
    "        'item_id': kfold_pairs[i].iloc[:, 0],\n",
    "        'nb_days': kfold_pairs[i].iloc[:, 1],\n",
    "#         'target': kfold_pairs[i].iloc[:, 2]\n",
    "    }\n",
    "\n",
    "    train_dataset, train_steps_per_epoch = create_train_tfdata(train_dict,\n",
    "                                                               new_df1.iloc[:, -1],\n",
    "                                                               batch_size=512)\n",
    "\n",
    "\n",
    "\n",
    "    model_obj_fitted, history = fit_model(model_obj, train_dataset, steps_per_epoch=32, epochs=100)"
   ]
  }
 ],
 "metadata": {
  "colab": {
   "collapsed_sections": [],
   "name": "recSys.ipynb",
   "provenance": []
  },
  "kernelspec": {
   "display_name": "Python 3 (ipykernel)",
   "language": "python",
   "name": "python3"
  },
  "language_info": {
   "codemirror_mode": {
    "name": "ipython",
    "version": 3
   },
   "file_extension": ".py",
   "mimetype": "text/x-python",
   "name": "python",
   "nbconvert_exporter": "python",
   "pygments_lexer": "ipython3",
   "version": "3.9.7"
  }
 },
 "nbformat": 4,
 "nbformat_minor": 1
}
